{
  "nbformat": 4,
  "nbformat_minor": 0,
  "metadata": {
    "colab": {
      "provenance": [],
      "include_colab_link": true
    },
    "kernelspec": {
      "name": "python3",
      "display_name": "Python 3"
    },
    "language_info": {
      "name": "python"
    },
    "accelerator": "GPU",
    "gpuClass": "standard",
    "widgets": {
      "application/vnd.jupyter.widget-state+json": {
        "0241e1e1196b4097b096cefd670df460": {
          "model_module": "@jupyter-widgets/controls",
          "model_name": "HBoxModel",
          "model_module_version": "1.5.0",
          "state": {
            "_dom_classes": [],
            "_model_module": "@jupyter-widgets/controls",
            "_model_module_version": "1.5.0",
            "_model_name": "HBoxModel",
            "_view_count": null,
            "_view_module": "@jupyter-widgets/controls",
            "_view_module_version": "1.5.0",
            "_view_name": "HBoxView",
            "box_style": "",
            "children": [
              "IPY_MODEL_83680c816b9d419499cd5c8bb79b18e1",
              "IPY_MODEL_88f03bde551842cbb42db956eaf991a4",
              "IPY_MODEL_2b702cde99ef49cfa5a7c7351ccc7090"
            ],
            "layout": "IPY_MODEL_3369e4a4861340079012938647657158"
          }
        },
        "83680c816b9d419499cd5c8bb79b18e1": {
          "model_module": "@jupyter-widgets/controls",
          "model_name": "HTMLModel",
          "model_module_version": "1.5.0",
          "state": {
            "_dom_classes": [],
            "_model_module": "@jupyter-widgets/controls",
            "_model_module_version": "1.5.0",
            "_model_name": "HTMLModel",
            "_view_count": null,
            "_view_module": "@jupyter-widgets/controls",
            "_view_module_version": "1.5.0",
            "_view_name": "HTMLView",
            "description": "",
            "description_tooltip": null,
            "layout": "IPY_MODEL_88d2c7019109474eb88977452b0b9945",
            "placeholder": "​",
            "style": "IPY_MODEL_ec44340f122a4419b1a5d72caa2b5752",
            "value": "100%"
          }
        },
        "88f03bde551842cbb42db956eaf991a4": {
          "model_module": "@jupyter-widgets/controls",
          "model_name": "FloatProgressModel",
          "model_module_version": "1.5.0",
          "state": {
            "_dom_classes": [],
            "_model_module": "@jupyter-widgets/controls",
            "_model_module_version": "1.5.0",
            "_model_name": "FloatProgressModel",
            "_view_count": null,
            "_view_module": "@jupyter-widgets/controls",
            "_view_module_version": "1.5.0",
            "_view_name": "ProgressView",
            "bar_style": "success",
            "description": "",
            "description_tooltip": null,
            "layout": "IPY_MODEL_f0bd62c6563b492494f18b6ad0e0e4d6",
            "max": 9912422,
            "min": 0,
            "orientation": "horizontal",
            "style": "IPY_MODEL_b1e5fe0f8b8c4660a2b37a7b6c93ba2d",
            "value": 9912422
          }
        },
        "2b702cde99ef49cfa5a7c7351ccc7090": {
          "model_module": "@jupyter-widgets/controls",
          "model_name": "HTMLModel",
          "model_module_version": "1.5.0",
          "state": {
            "_dom_classes": [],
            "_model_module": "@jupyter-widgets/controls",
            "_model_module_version": "1.5.0",
            "_model_name": "HTMLModel",
            "_view_count": null,
            "_view_module": "@jupyter-widgets/controls",
            "_view_module_version": "1.5.0",
            "_view_name": "HTMLView",
            "description": "",
            "description_tooltip": null,
            "layout": "IPY_MODEL_22ca814e83cc456fadda04fd17e44a90",
            "placeholder": "​",
            "style": "IPY_MODEL_6b77063d291c4d1fb42f1899c9f0607d",
            "value": " 9912422/9912422 [00:00&lt;00:00, 161465343.29it/s]"
          }
        },
        "3369e4a4861340079012938647657158": {
          "model_module": "@jupyter-widgets/base",
          "model_name": "LayoutModel",
          "model_module_version": "1.2.0",
          "state": {
            "_model_module": "@jupyter-widgets/base",
            "_model_module_version": "1.2.0",
            "_model_name": "LayoutModel",
            "_view_count": null,
            "_view_module": "@jupyter-widgets/base",
            "_view_module_version": "1.2.0",
            "_view_name": "LayoutView",
            "align_content": null,
            "align_items": null,
            "align_self": null,
            "border": null,
            "bottom": null,
            "display": null,
            "flex": null,
            "flex_flow": null,
            "grid_area": null,
            "grid_auto_columns": null,
            "grid_auto_flow": null,
            "grid_auto_rows": null,
            "grid_column": null,
            "grid_gap": null,
            "grid_row": null,
            "grid_template_areas": null,
            "grid_template_columns": null,
            "grid_template_rows": null,
            "height": null,
            "justify_content": null,
            "justify_items": null,
            "left": null,
            "margin": null,
            "max_height": null,
            "max_width": null,
            "min_height": null,
            "min_width": null,
            "object_fit": null,
            "object_position": null,
            "order": null,
            "overflow": null,
            "overflow_x": null,
            "overflow_y": null,
            "padding": null,
            "right": null,
            "top": null,
            "visibility": null,
            "width": null
          }
        },
        "88d2c7019109474eb88977452b0b9945": {
          "model_module": "@jupyter-widgets/base",
          "model_name": "LayoutModel",
          "model_module_version": "1.2.0",
          "state": {
            "_model_module": "@jupyter-widgets/base",
            "_model_module_version": "1.2.0",
            "_model_name": "LayoutModel",
            "_view_count": null,
            "_view_module": "@jupyter-widgets/base",
            "_view_module_version": "1.2.0",
            "_view_name": "LayoutView",
            "align_content": null,
            "align_items": null,
            "align_self": null,
            "border": null,
            "bottom": null,
            "display": null,
            "flex": null,
            "flex_flow": null,
            "grid_area": null,
            "grid_auto_columns": null,
            "grid_auto_flow": null,
            "grid_auto_rows": null,
            "grid_column": null,
            "grid_gap": null,
            "grid_row": null,
            "grid_template_areas": null,
            "grid_template_columns": null,
            "grid_template_rows": null,
            "height": null,
            "justify_content": null,
            "justify_items": null,
            "left": null,
            "margin": null,
            "max_height": null,
            "max_width": null,
            "min_height": null,
            "min_width": null,
            "object_fit": null,
            "object_position": null,
            "order": null,
            "overflow": null,
            "overflow_x": null,
            "overflow_y": null,
            "padding": null,
            "right": null,
            "top": null,
            "visibility": null,
            "width": null
          }
        },
        "ec44340f122a4419b1a5d72caa2b5752": {
          "model_module": "@jupyter-widgets/controls",
          "model_name": "DescriptionStyleModel",
          "model_module_version": "1.5.0",
          "state": {
            "_model_module": "@jupyter-widgets/controls",
            "_model_module_version": "1.5.0",
            "_model_name": "DescriptionStyleModel",
            "_view_count": null,
            "_view_module": "@jupyter-widgets/base",
            "_view_module_version": "1.2.0",
            "_view_name": "StyleView",
            "description_width": ""
          }
        },
        "f0bd62c6563b492494f18b6ad0e0e4d6": {
          "model_module": "@jupyter-widgets/base",
          "model_name": "LayoutModel",
          "model_module_version": "1.2.0",
          "state": {
            "_model_module": "@jupyter-widgets/base",
            "_model_module_version": "1.2.0",
            "_model_name": "LayoutModel",
            "_view_count": null,
            "_view_module": "@jupyter-widgets/base",
            "_view_module_version": "1.2.0",
            "_view_name": "LayoutView",
            "align_content": null,
            "align_items": null,
            "align_self": null,
            "border": null,
            "bottom": null,
            "display": null,
            "flex": null,
            "flex_flow": null,
            "grid_area": null,
            "grid_auto_columns": null,
            "grid_auto_flow": null,
            "grid_auto_rows": null,
            "grid_column": null,
            "grid_gap": null,
            "grid_row": null,
            "grid_template_areas": null,
            "grid_template_columns": null,
            "grid_template_rows": null,
            "height": null,
            "justify_content": null,
            "justify_items": null,
            "left": null,
            "margin": null,
            "max_height": null,
            "max_width": null,
            "min_height": null,
            "min_width": null,
            "object_fit": null,
            "object_position": null,
            "order": null,
            "overflow": null,
            "overflow_x": null,
            "overflow_y": null,
            "padding": null,
            "right": null,
            "top": null,
            "visibility": null,
            "width": null
          }
        },
        "b1e5fe0f8b8c4660a2b37a7b6c93ba2d": {
          "model_module": "@jupyter-widgets/controls",
          "model_name": "ProgressStyleModel",
          "model_module_version": "1.5.0",
          "state": {
            "_model_module": "@jupyter-widgets/controls",
            "_model_module_version": "1.5.0",
            "_model_name": "ProgressStyleModel",
            "_view_count": null,
            "_view_module": "@jupyter-widgets/base",
            "_view_module_version": "1.2.0",
            "_view_name": "StyleView",
            "bar_color": null,
            "description_width": ""
          }
        },
        "22ca814e83cc456fadda04fd17e44a90": {
          "model_module": "@jupyter-widgets/base",
          "model_name": "LayoutModel",
          "model_module_version": "1.2.0",
          "state": {
            "_model_module": "@jupyter-widgets/base",
            "_model_module_version": "1.2.0",
            "_model_name": "LayoutModel",
            "_view_count": null,
            "_view_module": "@jupyter-widgets/base",
            "_view_module_version": "1.2.0",
            "_view_name": "LayoutView",
            "align_content": null,
            "align_items": null,
            "align_self": null,
            "border": null,
            "bottom": null,
            "display": null,
            "flex": null,
            "flex_flow": null,
            "grid_area": null,
            "grid_auto_columns": null,
            "grid_auto_flow": null,
            "grid_auto_rows": null,
            "grid_column": null,
            "grid_gap": null,
            "grid_row": null,
            "grid_template_areas": null,
            "grid_template_columns": null,
            "grid_template_rows": null,
            "height": null,
            "justify_content": null,
            "justify_items": null,
            "left": null,
            "margin": null,
            "max_height": null,
            "max_width": null,
            "min_height": null,
            "min_width": null,
            "object_fit": null,
            "object_position": null,
            "order": null,
            "overflow": null,
            "overflow_x": null,
            "overflow_y": null,
            "padding": null,
            "right": null,
            "top": null,
            "visibility": null,
            "width": null
          }
        },
        "6b77063d291c4d1fb42f1899c9f0607d": {
          "model_module": "@jupyter-widgets/controls",
          "model_name": "DescriptionStyleModel",
          "model_module_version": "1.5.0",
          "state": {
            "_model_module": "@jupyter-widgets/controls",
            "_model_module_version": "1.5.0",
            "_model_name": "DescriptionStyleModel",
            "_view_count": null,
            "_view_module": "@jupyter-widgets/base",
            "_view_module_version": "1.2.0",
            "_view_name": "StyleView",
            "description_width": ""
          }
        },
        "18ebf01f99af4510885a53f2fa649334": {
          "model_module": "@jupyter-widgets/controls",
          "model_name": "HBoxModel",
          "model_module_version": "1.5.0",
          "state": {
            "_dom_classes": [],
            "_model_module": "@jupyter-widgets/controls",
            "_model_module_version": "1.5.0",
            "_model_name": "HBoxModel",
            "_view_count": null,
            "_view_module": "@jupyter-widgets/controls",
            "_view_module_version": "1.5.0",
            "_view_name": "HBoxView",
            "box_style": "",
            "children": [
              "IPY_MODEL_eacab7051a6143af9615a4b8afdf0fa3",
              "IPY_MODEL_dcd0b5f8109a48c9ab6edfbe10b734ec",
              "IPY_MODEL_6fa1d92923de4142a4741a8b5949f618"
            ],
            "layout": "IPY_MODEL_52bedd2919574785bbbc3b13e2108050"
          }
        },
        "eacab7051a6143af9615a4b8afdf0fa3": {
          "model_module": "@jupyter-widgets/controls",
          "model_name": "HTMLModel",
          "model_module_version": "1.5.0",
          "state": {
            "_dom_classes": [],
            "_model_module": "@jupyter-widgets/controls",
            "_model_module_version": "1.5.0",
            "_model_name": "HTMLModel",
            "_view_count": null,
            "_view_module": "@jupyter-widgets/controls",
            "_view_module_version": "1.5.0",
            "_view_name": "HTMLView",
            "description": "",
            "description_tooltip": null,
            "layout": "IPY_MODEL_9e5d6f40d8c24ca2bc6a67f635b8615f",
            "placeholder": "​",
            "style": "IPY_MODEL_578cfd2185654716b4d0afe7bd3799cf",
            "value": "100%"
          }
        },
        "dcd0b5f8109a48c9ab6edfbe10b734ec": {
          "model_module": "@jupyter-widgets/controls",
          "model_name": "FloatProgressModel",
          "model_module_version": "1.5.0",
          "state": {
            "_dom_classes": [],
            "_model_module": "@jupyter-widgets/controls",
            "_model_module_version": "1.5.0",
            "_model_name": "FloatProgressModel",
            "_view_count": null,
            "_view_module": "@jupyter-widgets/controls",
            "_view_module_version": "1.5.0",
            "_view_name": "ProgressView",
            "bar_style": "success",
            "description": "",
            "description_tooltip": null,
            "layout": "IPY_MODEL_140bd827ccce43d79d7f579f2176457b",
            "max": 28881,
            "min": 0,
            "orientation": "horizontal",
            "style": "IPY_MODEL_12903c5f71444e3f919fcf02934b2b40",
            "value": 28881
          }
        },
        "6fa1d92923de4142a4741a8b5949f618": {
          "model_module": "@jupyter-widgets/controls",
          "model_name": "HTMLModel",
          "model_module_version": "1.5.0",
          "state": {
            "_dom_classes": [],
            "_model_module": "@jupyter-widgets/controls",
            "_model_module_version": "1.5.0",
            "_model_name": "HTMLModel",
            "_view_count": null,
            "_view_module": "@jupyter-widgets/controls",
            "_view_module_version": "1.5.0",
            "_view_name": "HTMLView",
            "description": "",
            "description_tooltip": null,
            "layout": "IPY_MODEL_622555ffa8a74016b5d485794096c1e6",
            "placeholder": "​",
            "style": "IPY_MODEL_1627da75c04548bd89c22ad2b09c241b",
            "value": " 28881/28881 [00:00&lt;00:00, 1677709.98it/s]"
          }
        },
        "52bedd2919574785bbbc3b13e2108050": {
          "model_module": "@jupyter-widgets/base",
          "model_name": "LayoutModel",
          "model_module_version": "1.2.0",
          "state": {
            "_model_module": "@jupyter-widgets/base",
            "_model_module_version": "1.2.0",
            "_model_name": "LayoutModel",
            "_view_count": null,
            "_view_module": "@jupyter-widgets/base",
            "_view_module_version": "1.2.0",
            "_view_name": "LayoutView",
            "align_content": null,
            "align_items": null,
            "align_self": null,
            "border": null,
            "bottom": null,
            "display": null,
            "flex": null,
            "flex_flow": null,
            "grid_area": null,
            "grid_auto_columns": null,
            "grid_auto_flow": null,
            "grid_auto_rows": null,
            "grid_column": null,
            "grid_gap": null,
            "grid_row": null,
            "grid_template_areas": null,
            "grid_template_columns": null,
            "grid_template_rows": null,
            "height": null,
            "justify_content": null,
            "justify_items": null,
            "left": null,
            "margin": null,
            "max_height": null,
            "max_width": null,
            "min_height": null,
            "min_width": null,
            "object_fit": null,
            "object_position": null,
            "order": null,
            "overflow": null,
            "overflow_x": null,
            "overflow_y": null,
            "padding": null,
            "right": null,
            "top": null,
            "visibility": null,
            "width": null
          }
        },
        "9e5d6f40d8c24ca2bc6a67f635b8615f": {
          "model_module": "@jupyter-widgets/base",
          "model_name": "LayoutModel",
          "model_module_version": "1.2.0",
          "state": {
            "_model_module": "@jupyter-widgets/base",
            "_model_module_version": "1.2.0",
            "_model_name": "LayoutModel",
            "_view_count": null,
            "_view_module": "@jupyter-widgets/base",
            "_view_module_version": "1.2.0",
            "_view_name": "LayoutView",
            "align_content": null,
            "align_items": null,
            "align_self": null,
            "border": null,
            "bottom": null,
            "display": null,
            "flex": null,
            "flex_flow": null,
            "grid_area": null,
            "grid_auto_columns": null,
            "grid_auto_flow": null,
            "grid_auto_rows": null,
            "grid_column": null,
            "grid_gap": null,
            "grid_row": null,
            "grid_template_areas": null,
            "grid_template_columns": null,
            "grid_template_rows": null,
            "height": null,
            "justify_content": null,
            "justify_items": null,
            "left": null,
            "margin": null,
            "max_height": null,
            "max_width": null,
            "min_height": null,
            "min_width": null,
            "object_fit": null,
            "object_position": null,
            "order": null,
            "overflow": null,
            "overflow_x": null,
            "overflow_y": null,
            "padding": null,
            "right": null,
            "top": null,
            "visibility": null,
            "width": null
          }
        },
        "578cfd2185654716b4d0afe7bd3799cf": {
          "model_module": "@jupyter-widgets/controls",
          "model_name": "DescriptionStyleModel",
          "model_module_version": "1.5.0",
          "state": {
            "_model_module": "@jupyter-widgets/controls",
            "_model_module_version": "1.5.0",
            "_model_name": "DescriptionStyleModel",
            "_view_count": null,
            "_view_module": "@jupyter-widgets/base",
            "_view_module_version": "1.2.0",
            "_view_name": "StyleView",
            "description_width": ""
          }
        },
        "140bd827ccce43d79d7f579f2176457b": {
          "model_module": "@jupyter-widgets/base",
          "model_name": "LayoutModel",
          "model_module_version": "1.2.0",
          "state": {
            "_model_module": "@jupyter-widgets/base",
            "_model_module_version": "1.2.0",
            "_model_name": "LayoutModel",
            "_view_count": null,
            "_view_module": "@jupyter-widgets/base",
            "_view_module_version": "1.2.0",
            "_view_name": "LayoutView",
            "align_content": null,
            "align_items": null,
            "align_self": null,
            "border": null,
            "bottom": null,
            "display": null,
            "flex": null,
            "flex_flow": null,
            "grid_area": null,
            "grid_auto_columns": null,
            "grid_auto_flow": null,
            "grid_auto_rows": null,
            "grid_column": null,
            "grid_gap": null,
            "grid_row": null,
            "grid_template_areas": null,
            "grid_template_columns": null,
            "grid_template_rows": null,
            "height": null,
            "justify_content": null,
            "justify_items": null,
            "left": null,
            "margin": null,
            "max_height": null,
            "max_width": null,
            "min_height": null,
            "min_width": null,
            "object_fit": null,
            "object_position": null,
            "order": null,
            "overflow": null,
            "overflow_x": null,
            "overflow_y": null,
            "padding": null,
            "right": null,
            "top": null,
            "visibility": null,
            "width": null
          }
        },
        "12903c5f71444e3f919fcf02934b2b40": {
          "model_module": "@jupyter-widgets/controls",
          "model_name": "ProgressStyleModel",
          "model_module_version": "1.5.0",
          "state": {
            "_model_module": "@jupyter-widgets/controls",
            "_model_module_version": "1.5.0",
            "_model_name": "ProgressStyleModel",
            "_view_count": null,
            "_view_module": "@jupyter-widgets/base",
            "_view_module_version": "1.2.0",
            "_view_name": "StyleView",
            "bar_color": null,
            "description_width": ""
          }
        },
        "622555ffa8a74016b5d485794096c1e6": {
          "model_module": "@jupyter-widgets/base",
          "model_name": "LayoutModel",
          "model_module_version": "1.2.0",
          "state": {
            "_model_module": "@jupyter-widgets/base",
            "_model_module_version": "1.2.0",
            "_model_name": "LayoutModel",
            "_view_count": null,
            "_view_module": "@jupyter-widgets/base",
            "_view_module_version": "1.2.0",
            "_view_name": "LayoutView",
            "align_content": null,
            "align_items": null,
            "align_self": null,
            "border": null,
            "bottom": null,
            "display": null,
            "flex": null,
            "flex_flow": null,
            "grid_area": null,
            "grid_auto_columns": null,
            "grid_auto_flow": null,
            "grid_auto_rows": null,
            "grid_column": null,
            "grid_gap": null,
            "grid_row": null,
            "grid_template_areas": null,
            "grid_template_columns": null,
            "grid_template_rows": null,
            "height": null,
            "justify_content": null,
            "justify_items": null,
            "left": null,
            "margin": null,
            "max_height": null,
            "max_width": null,
            "min_height": null,
            "min_width": null,
            "object_fit": null,
            "object_position": null,
            "order": null,
            "overflow": null,
            "overflow_x": null,
            "overflow_y": null,
            "padding": null,
            "right": null,
            "top": null,
            "visibility": null,
            "width": null
          }
        },
        "1627da75c04548bd89c22ad2b09c241b": {
          "model_module": "@jupyter-widgets/controls",
          "model_name": "DescriptionStyleModel",
          "model_module_version": "1.5.0",
          "state": {
            "_model_module": "@jupyter-widgets/controls",
            "_model_module_version": "1.5.0",
            "_model_name": "DescriptionStyleModel",
            "_view_count": null,
            "_view_module": "@jupyter-widgets/base",
            "_view_module_version": "1.2.0",
            "_view_name": "StyleView",
            "description_width": ""
          }
        },
        "674caa55297e43c2926e800996855fdd": {
          "model_module": "@jupyter-widgets/controls",
          "model_name": "HBoxModel",
          "model_module_version": "1.5.0",
          "state": {
            "_dom_classes": [],
            "_model_module": "@jupyter-widgets/controls",
            "_model_module_version": "1.5.0",
            "_model_name": "HBoxModel",
            "_view_count": null,
            "_view_module": "@jupyter-widgets/controls",
            "_view_module_version": "1.5.0",
            "_view_name": "HBoxView",
            "box_style": "",
            "children": [
              "IPY_MODEL_a1c6bfb30b9f4abd8480240d26209d02",
              "IPY_MODEL_287a3b307f2d452093c08e5c115f4706",
              "IPY_MODEL_7b80581ddcbe40f1a1545c84b2c6074b"
            ],
            "layout": "IPY_MODEL_470c357dcf1c4b6290f432ed6b10b2a3"
          }
        },
        "a1c6bfb30b9f4abd8480240d26209d02": {
          "model_module": "@jupyter-widgets/controls",
          "model_name": "HTMLModel",
          "model_module_version": "1.5.0",
          "state": {
            "_dom_classes": [],
            "_model_module": "@jupyter-widgets/controls",
            "_model_module_version": "1.5.0",
            "_model_name": "HTMLModel",
            "_view_count": null,
            "_view_module": "@jupyter-widgets/controls",
            "_view_module_version": "1.5.0",
            "_view_name": "HTMLView",
            "description": "",
            "description_tooltip": null,
            "layout": "IPY_MODEL_f8a51ceecf02490fa92ee1b5e903cfb1",
            "placeholder": "​",
            "style": "IPY_MODEL_bfab3b1ad6d34ee9821e5c45b43475dd",
            "value": "100%"
          }
        },
        "287a3b307f2d452093c08e5c115f4706": {
          "model_module": "@jupyter-widgets/controls",
          "model_name": "FloatProgressModel",
          "model_module_version": "1.5.0",
          "state": {
            "_dom_classes": [],
            "_model_module": "@jupyter-widgets/controls",
            "_model_module_version": "1.5.0",
            "_model_name": "FloatProgressModel",
            "_view_count": null,
            "_view_module": "@jupyter-widgets/controls",
            "_view_module_version": "1.5.0",
            "_view_name": "ProgressView",
            "bar_style": "success",
            "description": "",
            "description_tooltip": null,
            "layout": "IPY_MODEL_fee4762bce9c471298d059d1b92cfbd6",
            "max": 1648877,
            "min": 0,
            "orientation": "horizontal",
            "style": "IPY_MODEL_a24ec438d2fe40858070d4a4d9124c6c",
            "value": 1648877
          }
        },
        "7b80581ddcbe40f1a1545c84b2c6074b": {
          "model_module": "@jupyter-widgets/controls",
          "model_name": "HTMLModel",
          "model_module_version": "1.5.0",
          "state": {
            "_dom_classes": [],
            "_model_module": "@jupyter-widgets/controls",
            "_model_module_version": "1.5.0",
            "_model_name": "HTMLModel",
            "_view_count": null,
            "_view_module": "@jupyter-widgets/controls",
            "_view_module_version": "1.5.0",
            "_view_name": "HTMLView",
            "description": "",
            "description_tooltip": null,
            "layout": "IPY_MODEL_805c996cc9054c69b7a0b3f8aac311bf",
            "placeholder": "​",
            "style": "IPY_MODEL_d6ffce2c92ec4eaa99d87a4a3c13c9f6",
            "value": " 1648877/1648877 [00:00&lt;00:00, 58983645.31it/s]"
          }
        },
        "470c357dcf1c4b6290f432ed6b10b2a3": {
          "model_module": "@jupyter-widgets/base",
          "model_name": "LayoutModel",
          "model_module_version": "1.2.0",
          "state": {
            "_model_module": "@jupyter-widgets/base",
            "_model_module_version": "1.2.0",
            "_model_name": "LayoutModel",
            "_view_count": null,
            "_view_module": "@jupyter-widgets/base",
            "_view_module_version": "1.2.0",
            "_view_name": "LayoutView",
            "align_content": null,
            "align_items": null,
            "align_self": null,
            "border": null,
            "bottom": null,
            "display": null,
            "flex": null,
            "flex_flow": null,
            "grid_area": null,
            "grid_auto_columns": null,
            "grid_auto_flow": null,
            "grid_auto_rows": null,
            "grid_column": null,
            "grid_gap": null,
            "grid_row": null,
            "grid_template_areas": null,
            "grid_template_columns": null,
            "grid_template_rows": null,
            "height": null,
            "justify_content": null,
            "justify_items": null,
            "left": null,
            "margin": null,
            "max_height": null,
            "max_width": null,
            "min_height": null,
            "min_width": null,
            "object_fit": null,
            "object_position": null,
            "order": null,
            "overflow": null,
            "overflow_x": null,
            "overflow_y": null,
            "padding": null,
            "right": null,
            "top": null,
            "visibility": null,
            "width": null
          }
        },
        "f8a51ceecf02490fa92ee1b5e903cfb1": {
          "model_module": "@jupyter-widgets/base",
          "model_name": "LayoutModel",
          "model_module_version": "1.2.0",
          "state": {
            "_model_module": "@jupyter-widgets/base",
            "_model_module_version": "1.2.0",
            "_model_name": "LayoutModel",
            "_view_count": null,
            "_view_module": "@jupyter-widgets/base",
            "_view_module_version": "1.2.0",
            "_view_name": "LayoutView",
            "align_content": null,
            "align_items": null,
            "align_self": null,
            "border": null,
            "bottom": null,
            "display": null,
            "flex": null,
            "flex_flow": null,
            "grid_area": null,
            "grid_auto_columns": null,
            "grid_auto_flow": null,
            "grid_auto_rows": null,
            "grid_column": null,
            "grid_gap": null,
            "grid_row": null,
            "grid_template_areas": null,
            "grid_template_columns": null,
            "grid_template_rows": null,
            "height": null,
            "justify_content": null,
            "justify_items": null,
            "left": null,
            "margin": null,
            "max_height": null,
            "max_width": null,
            "min_height": null,
            "min_width": null,
            "object_fit": null,
            "object_position": null,
            "order": null,
            "overflow": null,
            "overflow_x": null,
            "overflow_y": null,
            "padding": null,
            "right": null,
            "top": null,
            "visibility": null,
            "width": null
          }
        },
        "bfab3b1ad6d34ee9821e5c45b43475dd": {
          "model_module": "@jupyter-widgets/controls",
          "model_name": "DescriptionStyleModel",
          "model_module_version": "1.5.0",
          "state": {
            "_model_module": "@jupyter-widgets/controls",
            "_model_module_version": "1.5.0",
            "_model_name": "DescriptionStyleModel",
            "_view_count": null,
            "_view_module": "@jupyter-widgets/base",
            "_view_module_version": "1.2.0",
            "_view_name": "StyleView",
            "description_width": ""
          }
        },
        "fee4762bce9c471298d059d1b92cfbd6": {
          "model_module": "@jupyter-widgets/base",
          "model_name": "LayoutModel",
          "model_module_version": "1.2.0",
          "state": {
            "_model_module": "@jupyter-widgets/base",
            "_model_module_version": "1.2.0",
            "_model_name": "LayoutModel",
            "_view_count": null,
            "_view_module": "@jupyter-widgets/base",
            "_view_module_version": "1.2.0",
            "_view_name": "LayoutView",
            "align_content": null,
            "align_items": null,
            "align_self": null,
            "border": null,
            "bottom": null,
            "display": null,
            "flex": null,
            "flex_flow": null,
            "grid_area": null,
            "grid_auto_columns": null,
            "grid_auto_flow": null,
            "grid_auto_rows": null,
            "grid_column": null,
            "grid_gap": null,
            "grid_row": null,
            "grid_template_areas": null,
            "grid_template_columns": null,
            "grid_template_rows": null,
            "height": null,
            "justify_content": null,
            "justify_items": null,
            "left": null,
            "margin": null,
            "max_height": null,
            "max_width": null,
            "min_height": null,
            "min_width": null,
            "object_fit": null,
            "object_position": null,
            "order": null,
            "overflow": null,
            "overflow_x": null,
            "overflow_y": null,
            "padding": null,
            "right": null,
            "top": null,
            "visibility": null,
            "width": null
          }
        },
        "a24ec438d2fe40858070d4a4d9124c6c": {
          "model_module": "@jupyter-widgets/controls",
          "model_name": "ProgressStyleModel",
          "model_module_version": "1.5.0",
          "state": {
            "_model_module": "@jupyter-widgets/controls",
            "_model_module_version": "1.5.0",
            "_model_name": "ProgressStyleModel",
            "_view_count": null,
            "_view_module": "@jupyter-widgets/base",
            "_view_module_version": "1.2.0",
            "_view_name": "StyleView",
            "bar_color": null,
            "description_width": ""
          }
        },
        "805c996cc9054c69b7a0b3f8aac311bf": {
          "model_module": "@jupyter-widgets/base",
          "model_name": "LayoutModel",
          "model_module_version": "1.2.0",
          "state": {
            "_model_module": "@jupyter-widgets/base",
            "_model_module_version": "1.2.0",
            "_model_name": "LayoutModel",
            "_view_count": null,
            "_view_module": "@jupyter-widgets/base",
            "_view_module_version": "1.2.0",
            "_view_name": "LayoutView",
            "align_content": null,
            "align_items": null,
            "align_self": null,
            "border": null,
            "bottom": null,
            "display": null,
            "flex": null,
            "flex_flow": null,
            "grid_area": null,
            "grid_auto_columns": null,
            "grid_auto_flow": null,
            "grid_auto_rows": null,
            "grid_column": null,
            "grid_gap": null,
            "grid_row": null,
            "grid_template_areas": null,
            "grid_template_columns": null,
            "grid_template_rows": null,
            "height": null,
            "justify_content": null,
            "justify_items": null,
            "left": null,
            "margin": null,
            "max_height": null,
            "max_width": null,
            "min_height": null,
            "min_width": null,
            "object_fit": null,
            "object_position": null,
            "order": null,
            "overflow": null,
            "overflow_x": null,
            "overflow_y": null,
            "padding": null,
            "right": null,
            "top": null,
            "visibility": null,
            "width": null
          }
        },
        "d6ffce2c92ec4eaa99d87a4a3c13c9f6": {
          "model_module": "@jupyter-widgets/controls",
          "model_name": "DescriptionStyleModel",
          "model_module_version": "1.5.0",
          "state": {
            "_model_module": "@jupyter-widgets/controls",
            "_model_module_version": "1.5.0",
            "_model_name": "DescriptionStyleModel",
            "_view_count": null,
            "_view_module": "@jupyter-widgets/base",
            "_view_module_version": "1.2.0",
            "_view_name": "StyleView",
            "description_width": ""
          }
        },
        "f8ec6598294f4b9fb3df1d255c66b6a4": {
          "model_module": "@jupyter-widgets/controls",
          "model_name": "HBoxModel",
          "model_module_version": "1.5.0",
          "state": {
            "_dom_classes": [],
            "_model_module": "@jupyter-widgets/controls",
            "_model_module_version": "1.5.0",
            "_model_name": "HBoxModel",
            "_view_count": null,
            "_view_module": "@jupyter-widgets/controls",
            "_view_module_version": "1.5.0",
            "_view_name": "HBoxView",
            "box_style": "",
            "children": [
              "IPY_MODEL_1f57220ead87495ab56e242fce754565",
              "IPY_MODEL_196b53612fab47709826e41eee4c24a1",
              "IPY_MODEL_763803178be843d5a0a899a256207882"
            ],
            "layout": "IPY_MODEL_9de10cb85a8e4c1a9d1c7bbb2106a3cc"
          }
        },
        "1f57220ead87495ab56e242fce754565": {
          "model_module": "@jupyter-widgets/controls",
          "model_name": "HTMLModel",
          "model_module_version": "1.5.0",
          "state": {
            "_dom_classes": [],
            "_model_module": "@jupyter-widgets/controls",
            "_model_module_version": "1.5.0",
            "_model_name": "HTMLModel",
            "_view_count": null,
            "_view_module": "@jupyter-widgets/controls",
            "_view_module_version": "1.5.0",
            "_view_name": "HTMLView",
            "description": "",
            "description_tooltip": null,
            "layout": "IPY_MODEL_9e3f985bf2e74409a74f1fa834b2583d",
            "placeholder": "​",
            "style": "IPY_MODEL_1d50084f442f46b8922deea423885826",
            "value": "100%"
          }
        },
        "196b53612fab47709826e41eee4c24a1": {
          "model_module": "@jupyter-widgets/controls",
          "model_name": "FloatProgressModel",
          "model_module_version": "1.5.0",
          "state": {
            "_dom_classes": [],
            "_model_module": "@jupyter-widgets/controls",
            "_model_module_version": "1.5.0",
            "_model_name": "FloatProgressModel",
            "_view_count": null,
            "_view_module": "@jupyter-widgets/controls",
            "_view_module_version": "1.5.0",
            "_view_name": "ProgressView",
            "bar_style": "success",
            "description": "",
            "description_tooltip": null,
            "layout": "IPY_MODEL_82347fc2ff9547678b284a00750a3445",
            "max": 4542,
            "min": 0,
            "orientation": "horizontal",
            "style": "IPY_MODEL_c00740e50c6441a9901b311c9bae49aa",
            "value": 4542
          }
        },
        "763803178be843d5a0a899a256207882": {
          "model_module": "@jupyter-widgets/controls",
          "model_name": "HTMLModel",
          "model_module_version": "1.5.0",
          "state": {
            "_dom_classes": [],
            "_model_module": "@jupyter-widgets/controls",
            "_model_module_version": "1.5.0",
            "_model_name": "HTMLModel",
            "_view_count": null,
            "_view_module": "@jupyter-widgets/controls",
            "_view_module_version": "1.5.0",
            "_view_name": "HTMLView",
            "description": "",
            "description_tooltip": null,
            "layout": "IPY_MODEL_32a4d22c36784ea195f333d3bb77c32b",
            "placeholder": "​",
            "style": "IPY_MODEL_8d8efb79dd1c44229085e29a919a29bd",
            "value": " 4542/4542 [00:00&lt;00:00, 290869.97it/s]"
          }
        },
        "9de10cb85a8e4c1a9d1c7bbb2106a3cc": {
          "model_module": "@jupyter-widgets/base",
          "model_name": "LayoutModel",
          "model_module_version": "1.2.0",
          "state": {
            "_model_module": "@jupyter-widgets/base",
            "_model_module_version": "1.2.0",
            "_model_name": "LayoutModel",
            "_view_count": null,
            "_view_module": "@jupyter-widgets/base",
            "_view_module_version": "1.2.0",
            "_view_name": "LayoutView",
            "align_content": null,
            "align_items": null,
            "align_self": null,
            "border": null,
            "bottom": null,
            "display": null,
            "flex": null,
            "flex_flow": null,
            "grid_area": null,
            "grid_auto_columns": null,
            "grid_auto_flow": null,
            "grid_auto_rows": null,
            "grid_column": null,
            "grid_gap": null,
            "grid_row": null,
            "grid_template_areas": null,
            "grid_template_columns": null,
            "grid_template_rows": null,
            "height": null,
            "justify_content": null,
            "justify_items": null,
            "left": null,
            "margin": null,
            "max_height": null,
            "max_width": null,
            "min_height": null,
            "min_width": null,
            "object_fit": null,
            "object_position": null,
            "order": null,
            "overflow": null,
            "overflow_x": null,
            "overflow_y": null,
            "padding": null,
            "right": null,
            "top": null,
            "visibility": null,
            "width": null
          }
        },
        "9e3f985bf2e74409a74f1fa834b2583d": {
          "model_module": "@jupyter-widgets/base",
          "model_name": "LayoutModel",
          "model_module_version": "1.2.0",
          "state": {
            "_model_module": "@jupyter-widgets/base",
            "_model_module_version": "1.2.0",
            "_model_name": "LayoutModel",
            "_view_count": null,
            "_view_module": "@jupyter-widgets/base",
            "_view_module_version": "1.2.0",
            "_view_name": "LayoutView",
            "align_content": null,
            "align_items": null,
            "align_self": null,
            "border": null,
            "bottom": null,
            "display": null,
            "flex": null,
            "flex_flow": null,
            "grid_area": null,
            "grid_auto_columns": null,
            "grid_auto_flow": null,
            "grid_auto_rows": null,
            "grid_column": null,
            "grid_gap": null,
            "grid_row": null,
            "grid_template_areas": null,
            "grid_template_columns": null,
            "grid_template_rows": null,
            "height": null,
            "justify_content": null,
            "justify_items": null,
            "left": null,
            "margin": null,
            "max_height": null,
            "max_width": null,
            "min_height": null,
            "min_width": null,
            "object_fit": null,
            "object_position": null,
            "order": null,
            "overflow": null,
            "overflow_x": null,
            "overflow_y": null,
            "padding": null,
            "right": null,
            "top": null,
            "visibility": null,
            "width": null
          }
        },
        "1d50084f442f46b8922deea423885826": {
          "model_module": "@jupyter-widgets/controls",
          "model_name": "DescriptionStyleModel",
          "model_module_version": "1.5.0",
          "state": {
            "_model_module": "@jupyter-widgets/controls",
            "_model_module_version": "1.5.0",
            "_model_name": "DescriptionStyleModel",
            "_view_count": null,
            "_view_module": "@jupyter-widgets/base",
            "_view_module_version": "1.2.0",
            "_view_name": "StyleView",
            "description_width": ""
          }
        },
        "82347fc2ff9547678b284a00750a3445": {
          "model_module": "@jupyter-widgets/base",
          "model_name": "LayoutModel",
          "model_module_version": "1.2.0",
          "state": {
            "_model_module": "@jupyter-widgets/base",
            "_model_module_version": "1.2.0",
            "_model_name": "LayoutModel",
            "_view_count": null,
            "_view_module": "@jupyter-widgets/base",
            "_view_module_version": "1.2.0",
            "_view_name": "LayoutView",
            "align_content": null,
            "align_items": null,
            "align_self": null,
            "border": null,
            "bottom": null,
            "display": null,
            "flex": null,
            "flex_flow": null,
            "grid_area": null,
            "grid_auto_columns": null,
            "grid_auto_flow": null,
            "grid_auto_rows": null,
            "grid_column": null,
            "grid_gap": null,
            "grid_row": null,
            "grid_template_areas": null,
            "grid_template_columns": null,
            "grid_template_rows": null,
            "height": null,
            "justify_content": null,
            "justify_items": null,
            "left": null,
            "margin": null,
            "max_height": null,
            "max_width": null,
            "min_height": null,
            "min_width": null,
            "object_fit": null,
            "object_position": null,
            "order": null,
            "overflow": null,
            "overflow_x": null,
            "overflow_y": null,
            "padding": null,
            "right": null,
            "top": null,
            "visibility": null,
            "width": null
          }
        },
        "c00740e50c6441a9901b311c9bae49aa": {
          "model_module": "@jupyter-widgets/controls",
          "model_name": "ProgressStyleModel",
          "model_module_version": "1.5.0",
          "state": {
            "_model_module": "@jupyter-widgets/controls",
            "_model_module_version": "1.5.0",
            "_model_name": "ProgressStyleModel",
            "_view_count": null,
            "_view_module": "@jupyter-widgets/base",
            "_view_module_version": "1.2.0",
            "_view_name": "StyleView",
            "bar_color": null,
            "description_width": ""
          }
        },
        "32a4d22c36784ea195f333d3bb77c32b": {
          "model_module": "@jupyter-widgets/base",
          "model_name": "LayoutModel",
          "model_module_version": "1.2.0",
          "state": {
            "_model_module": "@jupyter-widgets/base",
            "_model_module_version": "1.2.0",
            "_model_name": "LayoutModel",
            "_view_count": null,
            "_view_module": "@jupyter-widgets/base",
            "_view_module_version": "1.2.0",
            "_view_name": "LayoutView",
            "align_content": null,
            "align_items": null,
            "align_self": null,
            "border": null,
            "bottom": null,
            "display": null,
            "flex": null,
            "flex_flow": null,
            "grid_area": null,
            "grid_auto_columns": null,
            "grid_auto_flow": null,
            "grid_auto_rows": null,
            "grid_column": null,
            "grid_gap": null,
            "grid_row": null,
            "grid_template_areas": null,
            "grid_template_columns": null,
            "grid_template_rows": null,
            "height": null,
            "justify_content": null,
            "justify_items": null,
            "left": null,
            "margin": null,
            "max_height": null,
            "max_width": null,
            "min_height": null,
            "min_width": null,
            "object_fit": null,
            "object_position": null,
            "order": null,
            "overflow": null,
            "overflow_x": null,
            "overflow_y": null,
            "padding": null,
            "right": null,
            "top": null,
            "visibility": null,
            "width": null
          }
        },
        "8d8efb79dd1c44229085e29a919a29bd": {
          "model_module": "@jupyter-widgets/controls",
          "model_name": "DescriptionStyleModel",
          "model_module_version": "1.5.0",
          "state": {
            "_model_module": "@jupyter-widgets/controls",
            "_model_module_version": "1.5.0",
            "_model_name": "DescriptionStyleModel",
            "_view_count": null,
            "_view_module": "@jupyter-widgets/base",
            "_view_module_version": "1.2.0",
            "_view_name": "StyleView",
            "description_width": ""
          }
        }
      }
    }
  },
  "cells": [
    {
      "cell_type": "markdown",
      "metadata": {
        "id": "view-in-github",
        "colab_type": "text"
      },
      "source": [
        "<a href=\"https://colab.research.google.com/github/ARMH2612/10-Projects/blob/main/CAM_MNIST.ipynb\" target=\"_parent\"><img src=\"https://colab.research.google.com/assets/colab-badge.svg\" alt=\"Open In Colab\"/></a>"
      ]
    },
    {
      "cell_type": "code",
      "execution_count": null,
      "metadata": {
        "id": "tyQkiXpYObTy"
      },
      "outputs": [],
      "source": [
        "import torch\n",
        "import torchvision \n",
        "import matplotlib.pyplot as plt\n",
        "import numpy as np\n",
        "import cv2\n",
        "import torch.nn as nn\n",
        "from torchvision import datasets, models, transforms\n",
        "from torch.nn import functional as F\n",
        "import torch.optim as optim"
      ]
    },
    {
      "cell_type": "code",
      "source": [
        "train = datasets.MNIST('', train=True, download=True, transform = transforms.Compose([transforms.ToTensor()]))\n",
        "test = datasets.MNIST('', train=False, download=True, transform = transforms.Compose([transforms.ToTensor()]))\n",
        "\n",
        "trainset_loader = torch.utils.data.DataLoader(train, batch_size=128, shuffle=True)\n",
        "testset_loader = torch.utils.data.DataLoader(test, batch_size=128, shuffle=True)\n",
        "\n",
        "print(len(train))\n",
        "# print(train.shape)"
      ],
      "metadata": {
        "colab": {
          "base_uri": "https://localhost:8080/",
          "height": 440,
          "referenced_widgets": [
            "0241e1e1196b4097b096cefd670df460",
            "83680c816b9d419499cd5c8bb79b18e1",
            "88f03bde551842cbb42db956eaf991a4",
            "2b702cde99ef49cfa5a7c7351ccc7090",
            "3369e4a4861340079012938647657158",
            "88d2c7019109474eb88977452b0b9945",
            "ec44340f122a4419b1a5d72caa2b5752",
            "f0bd62c6563b492494f18b6ad0e0e4d6",
            "b1e5fe0f8b8c4660a2b37a7b6c93ba2d",
            "22ca814e83cc456fadda04fd17e44a90",
            "6b77063d291c4d1fb42f1899c9f0607d",
            "18ebf01f99af4510885a53f2fa649334",
            "eacab7051a6143af9615a4b8afdf0fa3",
            "dcd0b5f8109a48c9ab6edfbe10b734ec",
            "6fa1d92923de4142a4741a8b5949f618",
            "52bedd2919574785bbbc3b13e2108050",
            "9e5d6f40d8c24ca2bc6a67f635b8615f",
            "578cfd2185654716b4d0afe7bd3799cf",
            "140bd827ccce43d79d7f579f2176457b",
            "12903c5f71444e3f919fcf02934b2b40",
            "622555ffa8a74016b5d485794096c1e6",
            "1627da75c04548bd89c22ad2b09c241b",
            "674caa55297e43c2926e800996855fdd",
            "a1c6bfb30b9f4abd8480240d26209d02",
            "287a3b307f2d452093c08e5c115f4706",
            "7b80581ddcbe40f1a1545c84b2c6074b",
            "470c357dcf1c4b6290f432ed6b10b2a3",
            "f8a51ceecf02490fa92ee1b5e903cfb1",
            "bfab3b1ad6d34ee9821e5c45b43475dd",
            "fee4762bce9c471298d059d1b92cfbd6",
            "a24ec438d2fe40858070d4a4d9124c6c",
            "805c996cc9054c69b7a0b3f8aac311bf",
            "d6ffce2c92ec4eaa99d87a4a3c13c9f6",
            "f8ec6598294f4b9fb3df1d255c66b6a4",
            "1f57220ead87495ab56e242fce754565",
            "196b53612fab47709826e41eee4c24a1",
            "763803178be843d5a0a899a256207882",
            "9de10cb85a8e4c1a9d1c7bbb2106a3cc",
            "9e3f985bf2e74409a74f1fa834b2583d",
            "1d50084f442f46b8922deea423885826",
            "82347fc2ff9547678b284a00750a3445",
            "c00740e50c6441a9901b311c9bae49aa",
            "32a4d22c36784ea195f333d3bb77c32b",
            "8d8efb79dd1c44229085e29a919a29bd"
          ]
        },
        "id": "4EU6JOu5Q5jb",
        "outputId": "9a2dc4fb-eb65-4f13-ce6d-02afbd18ee06"
      },
      "execution_count": null,
      "outputs": [
        {
          "output_type": "stream",
          "name": "stdout",
          "text": [
            "Downloading http://yann.lecun.com/exdb/mnist/train-images-idx3-ubyte.gz\n",
            "Downloading http://yann.lecun.com/exdb/mnist/train-images-idx3-ubyte.gz to MNIST/raw/train-images-idx3-ubyte.gz\n"
          ]
        },
        {
          "output_type": "display_data",
          "data": {
            "text/plain": [
              "  0%|          | 0/9912422 [00:00<?, ?it/s]"
            ],
            "application/vnd.jupyter.widget-view+json": {
              "version_major": 2,
              "version_minor": 0,
              "model_id": "0241e1e1196b4097b096cefd670df460"
            }
          },
          "metadata": {}
        },
        {
          "output_type": "stream",
          "name": "stdout",
          "text": [
            "Extracting MNIST/raw/train-images-idx3-ubyte.gz to MNIST/raw\n",
            "\n",
            "Downloading http://yann.lecun.com/exdb/mnist/train-labels-idx1-ubyte.gz\n",
            "Downloading http://yann.lecun.com/exdb/mnist/train-labels-idx1-ubyte.gz to MNIST/raw/train-labels-idx1-ubyte.gz\n"
          ]
        },
        {
          "output_type": "display_data",
          "data": {
            "text/plain": [
              "  0%|          | 0/28881 [00:00<?, ?it/s]"
            ],
            "application/vnd.jupyter.widget-view+json": {
              "version_major": 2,
              "version_minor": 0,
              "model_id": "18ebf01f99af4510885a53f2fa649334"
            }
          },
          "metadata": {}
        },
        {
          "output_type": "stream",
          "name": "stdout",
          "text": [
            "Extracting MNIST/raw/train-labels-idx1-ubyte.gz to MNIST/raw\n",
            "\n",
            "Downloading http://yann.lecun.com/exdb/mnist/t10k-images-idx3-ubyte.gz\n",
            "Downloading http://yann.lecun.com/exdb/mnist/t10k-images-idx3-ubyte.gz to MNIST/raw/t10k-images-idx3-ubyte.gz\n"
          ]
        },
        {
          "output_type": "display_data",
          "data": {
            "text/plain": [
              "  0%|          | 0/1648877 [00:00<?, ?it/s]"
            ],
            "application/vnd.jupyter.widget-view+json": {
              "version_major": 2,
              "version_minor": 0,
              "model_id": "674caa55297e43c2926e800996855fdd"
            }
          },
          "metadata": {}
        },
        {
          "output_type": "stream",
          "name": "stdout",
          "text": [
            "Extracting MNIST/raw/t10k-images-idx3-ubyte.gz to MNIST/raw\n",
            "\n",
            "Downloading http://yann.lecun.com/exdb/mnist/t10k-labels-idx1-ubyte.gz\n",
            "Downloading http://yann.lecun.com/exdb/mnist/t10k-labels-idx1-ubyte.gz to MNIST/raw/t10k-labels-idx1-ubyte.gz\n"
          ]
        },
        {
          "output_type": "display_data",
          "data": {
            "text/plain": [
              "  0%|          | 0/4542 [00:00<?, ?it/s]"
            ],
            "application/vnd.jupyter.widget-view+json": {
              "version_major": 2,
              "version_minor": 0,
              "model_id": "f8ec6598294f4b9fb3df1d255c66b6a4"
            }
          },
          "metadata": {}
        },
        {
          "output_type": "stream",
          "name": "stdout",
          "text": [
            "Extracting MNIST/raw/t10k-labels-idx1-ubyte.gz to MNIST/raw\n",
            "\n",
            "60000\n"
          ]
        }
      ]
    },
    {
      "cell_type": "markdown",
      "source": [
        "# Simple Convolutional Neural Network to classify MNIST digits"
      ],
      "metadata": {
        "id": "gGbNnFXVcDJc"
      }
    },
    {
      "cell_type": "code",
      "source": [
        "class CNN_MNIST(nn.Module):\n",
        "  def __init__(self):\n",
        "    super().__init__()\n",
        "    # 28 - 3 + 2 + 1 = 28\n",
        "    self.conv1 = nn.Conv2d(in_channels=1, out_channels = 8, kernel_size = 3, padding = 1)\n",
        "    # 28 - 2 + 1 = 27\n",
        "    self.pooling1 = nn.MaxPool2d(kernel_size = 2)\n",
        "    # 27 - 3 + 2 + 1 = 27\n",
        "    self.conv2 = nn.Conv2d(in_channels = 8, out_channels = 16, kernel_size = 3, padding = 1)\n",
        "    # \n",
        "    self.pooling2 = nn.MaxPool2d(kernel_size = 2)\n",
        "    # it was supposed to be 16 * 26 * 26, idk why didnt work\n",
        "    self.fc = nn.Linear(16*7*7, 10)\n",
        "\n",
        "  def forward(self, x):\n",
        "    x = nn.functional.relu(self.conv1(x))\n",
        "    x = self.pooling1(x)\n",
        "    x = nn.functional.relu(self.conv2(x))\n",
        "    x = self.pooling2(x)\n",
        "    x = x.view((-1, 16*7*7))\n",
        "\n",
        "    return nn.functional.softmax(self.fc(x))\n",
        "\n",
        "  "
      ],
      "metadata": {
        "id": "hf2WWOWdO6iW"
      },
      "execution_count": null,
      "outputs": []
    },
    {
      "cell_type": "code",
      "source": [
        "model = CNN_MNIST().cuda()\n",
        "# model = CNN_MNIST()\n",
        "print(model)"
      ],
      "metadata": {
        "colab": {
          "base_uri": "https://localhost:8080/"
        },
        "id": "D91i-EV7QZQm",
        "outputId": "080a30bc-1239-4665-87bc-c3916092cbe3"
      },
      "execution_count": null,
      "outputs": [
        {
          "output_type": "stream",
          "name": "stdout",
          "text": [
            "CNN_MNIST(\n",
            "  (conv1): Conv2d(1, 8, kernel_size=(3, 3), stride=(1, 1), padding=(1, 1))\n",
            "  (pooling1): MaxPool2d(kernel_size=2, stride=2, padding=0, dilation=1, ceil_mode=False)\n",
            "  (conv2): Conv2d(8, 16, kernel_size=(3, 3), stride=(1, 1), padding=(1, 1))\n",
            "  (pooling2): MaxPool2d(kernel_size=2, stride=2, padding=0, dilation=1, ceil_mode=False)\n",
            "  (fc): Linear(in_features=784, out_features=10, bias=True)\n",
            ")\n"
          ]
        }
      ]
    },
    {
      "cell_type": "markdown",
      "source": [
        "### training the CNN"
      ],
      "metadata": {
        "id": "xPWwi6ZWcaqh"
      }
    },
    {
      "cell_type": "code",
      "source": [
        "num_epochs = 20\n",
        "learning_rate = 0.001\n",
        "optimizer = optim.Adam(model.parameters(), lr = learning_rate)\n",
        "loss_fn = nn.CrossEntropyLoss()\n",
        "\n",
        "train_loss_list = []\n",
        "for epoch in range(num_epochs):\n",
        "  print(f\"Epoch {epoch+1}/{num_epochs}:\", end = \" \")\n",
        "  train_loss = 0\n",
        "\n",
        "  for data in trainset_loader:\n",
        "    X, y = data\n",
        "    model.zero_grad()\n",
        "    X = X.cuda()\n",
        "    y = y.cuda()\n",
        "\n",
        "    output = model(X)\n",
        "    loss = loss_fn(output, y)\n",
        "\n",
        "    loss.backward()\n",
        "    optimizer.step()\n",
        "    train_loss += loss.item()\n",
        "\n",
        "  train_loss_list.append(train_loss/ len(trainset_loader))\n",
        "  print(f\"Training loss = {train_loss_list[-1]}\")\n",
        "\n",
        "plt.plot(range(1, num_epochs+1), train_loss_list)\n",
        "plt.xlabel(\"Number of epochs\")\n",
        "plt.ylabel(\"Training loss\")\n"
      ],
      "metadata": {
        "colab": {
          "base_uri": "https://localhost:8080/",
          "height": 681
        },
        "id": "2Pw-rEBgYcjS",
        "outputId": "66544b3e-4a06-4a95-d0f6-e2b0b0ef90f1"
      },
      "execution_count": null,
      "outputs": [
        {
          "output_type": "stream",
          "name": "stdout",
          "text": [
            "Epoch 1/20: "
          ]
        },
        {
          "output_type": "stream",
          "name": "stderr",
          "text": [
            "<ipython-input-3-6799241b9fdc>:22: UserWarning: Implicit dimension choice for softmax has been deprecated. Change the call to include dim=X as an argument.\n",
            "  return nn.functional.softmax(self.fc(x))\n"
          ]
        },
        {
          "output_type": "stream",
          "name": "stdout",
          "text": [
            "Training loss = 1.7817662339220677\n",
            "Epoch 2/20: Training loss = 1.632753416673461\n",
            "Epoch 3/20: Training loss = 1.5869768420770478\n",
            "Epoch 4/20: Training loss = 1.5785331207551936\n",
            "Epoch 5/20: Training loss = 1.5742326095414314\n",
            "Epoch 6/20: Training loss = 1.5714460321580932\n",
            "Epoch 7/20: Training loss = 1.5691661117935993\n",
            "Epoch 8/20: Training loss = 1.5481226878888064\n",
            "Epoch 9/20: Training loss = 1.4829631347391905\n",
            "Epoch 10/20: Training loss = 1.48064319462156\n",
            "Epoch 11/20: Training loss = 1.4790526262478534\n",
            "Epoch 12/20: Training loss = 1.4778120304221538\n",
            "Epoch 13/20: Training loss = 1.4770333853357636\n",
            "Epoch 14/20: Training loss = 1.4762053769280408\n",
            "Epoch 15/20: Training loss = 1.4752757711959545\n",
            "Epoch 16/20: Training loss = 1.47494169542276\n",
            "Epoch 17/20: Training loss = 1.4742279561089555\n",
            "Epoch 18/20: Training loss = 1.4733344522366392\n",
            "Epoch 20/20: Training loss = 1.472326529305627\n"
          ]
        },
        {
          "output_type": "execute_result",
          "data": {
            "text/plain": [
              "Text(0, 0.5, 'Training loss')"
            ]
          },
          "metadata": {},
          "execution_count": 5
        },
        {
          "output_type": "display_data",
          "data": {
            "text/plain": [
              "<Figure size 432x288 with 1 Axes>"
            ],
            "image/png": "[encoded data removed]"
          },
          "metadata": {
            "needs_background": "light"
          }
        }
      ]
    },
    {
      "cell_type": "markdown",
      "source": [
        "### Testing the CNN"
      ],
      "metadata": {
        "id": "seVJjE4wcevq"
      }
    },
    {
      "cell_type": "code",
      "source": [
        "test_acc=0\n",
        "model.eval()\n",
        "  \n",
        "with torch.no_grad():\n",
        "  test_acc= 0\n",
        "  #Iterating over the training dataset in batches\n",
        "  for i, (images, labels) in enumerate(testset_loader):\n",
        "      \n",
        "      images = images.cuda()\n",
        "      y_true = labels.cuda()\n",
        "\n",
        "      #Calculating outputs for the batch being iterated\n",
        "      outputs = model(images)\n",
        "        \n",
        "      #Calculated prediction labels from models\n",
        "      _, y_pred = torch.max(outputs.data, 1)\n",
        "        \n",
        "      #Comparing predicted and true labels\n",
        "      test_acc += (y_pred == y_true).sum().item()\n",
        "      \n",
        "  print(f\"Test set accuracy = {100 * test_acc / len(test)} %\")"
      ],
      "metadata": {
        "colab": {
          "base_uri": "https://localhost:8080/"
        },
        "id": "Qt34Xy4hc5et",
        "outputId": "3dfffe34-1a35-4091-f303-2e029b66e227"
      },
      "execution_count": null,
      "outputs": [
        {
          "output_type": "stream",
          "name": "stderr",
          "text": [
            "<ipython-input-3-6799241b9fdc>:22: UserWarning: Implicit dimension choice for softmax has been deprecated. Change the call to include dim=X as an argument.\n",
            "  return nn.functional.softmax(self.fc(x))\n"
          ]
        },
        {
          "output_type": "stream",
          "name": "stdout",
          "text": [
            "Test set accuracy = 98.57 %\n"
          ]
        }
      ]
    },
    {
      "cell_type": "markdown",
      "source": [
        "### check if the training set instances are distributed equally in each class (not necessary here, just for did it for data prep haha)"
      ],
      "metadata": {
        "id": "izHusmkUckhg"
      }
    },
    {
      "cell_type": "code",
      "source": [
        "classes = []\n",
        "for batch_idx, data in enumerate(trainset_loader):\n",
        "  X, y = data\n",
        "  X = X.cuda()\n",
        "  y = y.cuda()\n",
        "  classes.extend(y.tolist())\n",
        "unique, counts = np.unique(classes, return_counts= True)\n",
        "names = list(test.class_to_idx.keys())\n",
        "plt.bar(names, counts)\n",
        "plt.xlabel(\"Target classes\")\n",
        "plt.ylabel(\"Number of training instances\")"
      ],
      "metadata": {
        "id": "zP_1LuE_1zgz",
        "colab": {
          "base_uri": "https://localhost:8080/",
          "height": 298
        },
        "outputId": "34449b52-96db-4c0e-aef0-9789e9ce3f0f"
      },
      "execution_count": null,
      "outputs": [
        {
          "output_type": "execute_result",
          "data": {
            "text/plain": [
              "Text(0, 0.5, 'Number of training instances')"
            ]
          },
          "metadata": {},
          "execution_count": 8
        },
        {
          "output_type": "display_data",
          "data": {
            "text/plain": [
              "<Figure size 432x288 with 1 Axes>"
            ],
            "image/png": "[encoded data removed]"
          },
          "metadata": {
            "needs_background": "light"
          }
        }
      ]
    },
    {
      "cell_type": "markdown",
      "source": [
        "### Showing some test samples"
      ],
      "metadata": {
        "id": "ys_uQlvZc2cm"
      }
    },
    {
      "cell_type": "code",
      "source": [
        "num_images = 4\n",
        "y_true_name = [names[y_true[idx]] for idx in range(num_images)]\n",
        "y_pred_name = [names[y_pred[idx]] for idx in range(num_images)]\n",
        "\n",
        "title = f\"Actual labels: {y_true_name}, Predicted labels: {y_pred_name}\"\n",
        "\n",
        "plt.imshow(np.transpose(torchvision.utils.make_grid(images[:num_images].cpu(),normalize=True, padding=1).numpy(),(1,2,0)))\n",
        "plt.title(title)\n",
        "plt.axis('off')"
      ],
      "metadata": {
        "colab": {
          "base_uri": "https://localhost:8080/",
          "height": 150
        },
        "id": "ChZxe9xU3oRG",
        "outputId": "e1877367-81c4-4adc-f381-3b49a6491ebf"
      },
      "execution_count": null,
      "outputs": [
        {
          "output_type": "execute_result",
          "data": {
            "text/plain": [
              "(-0.5, 116.5, 29.5, -0.5)"
            ]
          },
          "metadata": {},
          "execution_count": 9
        },
        {
          "output_type": "display_data",
          "data": {
            "text/plain": [
              "<Figure size 432x288 with 1 Axes>"
            ],
            "image/png": "[encoded data removed]"
          },
          "metadata": {
            "needs_background": "light"
          }
        }
      ]
    },
    {
      "cell_type": "markdown",
      "source": [
        "# In this section I started the CAM"
      ],
      "metadata": {
        "id": "40_evuT2dDnv"
      }
    },
    {
      "cell_type": "markdown",
      "source": [
        "### got the labels and the training set images"
      ],
      "metadata": {
        "id": "WUi9nhSkdK7M"
      }
    },
    {
      "cell_type": "code",
      "source": [
        "dataiter = iter(testset_loader)\n",
        "images_cams_try, labels = next(dataiter)\n",
        "\n",
        "plt.imshow(np.transpose(torchvision.utils.make_grid(\n",
        "    images_cams_try[0], normalize=True, padding=1, nrow=5\n",
        ").numpy(), (1,2,0)))"
      ],
      "metadata": {
        "colab": {
          "base_uri": "https://localhost:8080/",
          "height": 282
        },
        "id": "QtYZCDni5cFf",
        "outputId": "b822d32e-6fdb-4c74-b07e-66689905fb03"
      },
      "execution_count": null,
      "outputs": [
        {
          "output_type": "execute_result",
          "data": {
            "text/plain": [
              "<matplotlib.image.AxesImage at 0x7f9dc3054a90>"
            ]
          },
          "metadata": {},
          "execution_count": 12
        },
        {
          "output_type": "display_data",
          "data": {
            "text/plain": [
              "<Figure size 432x288 with 1 Axes>"
            ],
            "image/png": "[encoded data removed]"
          },
          "metadata": {
            "needs_background": "light"
          }
        }
      ]
    },
    {
      "cell_type": "code",
      "source": [
        "# hook to get the activation maps:\n",
        "activation = {}\n",
        "def get_activation(name):\n",
        "    def hook(model, input, output):\n",
        "        activation[name] = output.detach()\n",
        "    return hook"
      ],
      "metadata": {
        "id": "p2Zr9nv57BLP"
      },
      "execution_count": null,
      "outputs": []
    },
    {
      "cell_type": "code",
      "source": [
        "# get the activation map of the first conv layer\n",
        "model.conv1.register_forward_hook(get_activation('conv1'))\n",
        "model.conv2.register_forward_hook(get_activation('conv2'))\n",
        "output = model(images_cams_try[0].cuda())\n"
      ],
      "metadata": {
        "colab": {
          "base_uri": "https://localhost:8080/"
        },
        "id": "pM_wEwuZ7MrV",
        "outputId": "01c06a1b-047a-4443-d51d-d075aa614249"
      },
      "execution_count": null,
      "outputs": [
        {
          "output_type": "stream",
          "name": "stderr",
          "text": [
            "<ipython-input-3-6799241b9fdc>:22: UserWarning: Implicit dimension choice for softmax has been deprecated. Change the call to include dim=X as an argument.\n",
            "  return nn.functional.softmax(self.fc(x))\n"
          ]
        }
      ]
    },
    {
      "cell_type": "code",
      "source": [
        "# printing the activation maps:\n",
        "plt.figure(figsize=(10,10)) \n",
        "for i in range(8):\n",
        "    plt.subplot(6,6,i+1)    \n",
        "    plt.imshow(activation['conv1'][i].cpu(), cmap='gray')\n",
        "    # plt.tight_layout()\n",
        "plt.show()"
      ],
      "metadata": {
        "colab": {
          "base_uri": "https://localhost:8080/",
          "height": 221
        },
        "id": "8hSZB-Qb7h9p",
        "outputId": "085b9db6-5407-4ad4-cda2-72cd98b5d329"
      },
      "execution_count": null,
      "outputs": [
        {
          "output_type": "display_data",
          "data": {
            "text/plain": [
              "<Figure size 720x720 with 8 Axes>"
            ],
            "image/png": "[encoded data removed]"
          },
          "metadata": {
            "needs_background": "light"
          }
        }
      ]
    },
    {
      "cell_type": "code",
      "source": [
        "# print(activation['conv2'].shape)\n",
        "plt.figure(figsize=(10,10)) \n",
        "for i in range(16):\n",
        "    plt.subplot(6,6,i+1)    \n",
        "    plt.imshow(activation['conv2'][i].cpu(), cmap='gray')\n",
        "    # plt.tight_layout()\n",
        "plt.show()"
      ],
      "metadata": {
        "colab": {
          "base_uri": "https://localhost:8080/",
          "height": 313
        },
        "id": "nkSI8LEa9EZD",
        "outputId": "3fdcb909-b9fb-4640-a5f9-cd9fc2f8cc7e"
      },
      "execution_count": null,
      "outputs": [
        {
          "output_type": "display_data",
          "data": {
            "text/plain": [
              "<Figure size 720x720 with 16 Axes>"
            ],
            "image/png": "[encoded data removed]"
          },
          "metadata": {
            "needs_background": "light"
          }
        }
      ]
    },
    {
      "cell_type": "code",
      "source": [
        "# function to show the kernels of each layer:\n",
        "import math\n",
        "def print_kernels(layer):\n",
        "    kernels = layer.weight.detach().cpu().numpy()\n",
        "    size = math.floor(math.sqrt(len(kernels)))+1\n",
        "    # print(kernels.shape)\n",
        "    for i in range(kernels.shape[0]):\n",
        "        plt.subplot(size, size, i+1)\n",
        "        # i took the first from each kernel set\n",
        "        plt.imshow(kernels[i][0], cmap='gray')\n",
        "        # print(len(kernels[i]))\n",
        "\n",
        "    plt.show()"
      ],
      "metadata": {
        "id": "J6GDIIlU9VRC"
      },
      "execution_count": null,
      "outputs": []
    },
    {
      "cell_type": "code",
      "source": [
        "print_kernels(model.conv1)"
      ],
      "metadata": {
        "colab": {
          "base_uri": "https://localhost:8080/",
          "height": 265
        },
        "id": "ncH0UAep-Ptk",
        "outputId": "806cd52d-b614-4de4-92dc-d7780192e099"
      },
      "execution_count": null,
      "outputs": [
        {
          "output_type": "display_data",
          "data": {
            "text/plain": [
              "<Figure size 432x288 with 8 Axes>"
            ],
            "image/png": "[encoded data removed]"
          },
          "metadata": {
            "needs_background": "light"
          }
        }
      ]
    },
    {
      "cell_type": "code",
      "source": [
        "class CNN_MNIST_GAP(nn.Module):\n",
        "  def __init__(self):\n",
        "    super().__init__()\n",
        "    # 28 - 3 + 2 + 1 = 28\n",
        "    self.conv1 = nn.Conv2d(in_channels=1, out_channels = 8, kernel_size = 3, padding = 1)\n",
        "    # 28 - 2 + 1 = 27\n",
        "    self.pooling1 = nn.MaxPool2d(kernel_size = 2)\n",
        "    # 27 - 3 + 2 + 1 = 27\n",
        "    self.conv2 = nn.Conv2d(in_channels = 8, out_channels = 16, kernel_size = 3, padding = 1)\n",
        "    # \n",
        "    self.gap = nn.AdaptiveAvgPool2d((1,1)) # to get 1 output and simulate the gap\n",
        "    # it was supposed to be 16 * 26 * 26, idk why didnt work\n",
        "    self.fc = nn.Linear(16, 10)\n",
        "\n",
        "  def forward(self, x):\n",
        "    x = nn.functional.relu(self.conv1(x))\n",
        "    x = self.pooling1(x)\n",
        "    x = nn.functional.relu(self.conv2(x))\n",
        "    x = self.gap(x)\n",
        "    x = x.view((-1, 16))\n",
        "\n",
        "    return nn.functional.softmax(self.fc(x))\n"
      ],
      "metadata": {
        "id": "498g5d9yWSHN"
      },
      "execution_count": null,
      "outputs": []
    },
    {
      "cell_type": "code",
      "source": [
        "model_gap = CNN_MNIST_GAP().cuda()\n",
        "# model_gap = CNN_MNIST_GAP()\n",
        "print(model_gap)\n"
      ],
      "metadata": {
        "colab": {
          "base_uri": "https://localhost:8080/"
        },
        "id": "tDqrqxjAnplA",
        "outputId": "93cd85e0-c262-425b-a86d-d4e090fbe0e7"
      },
      "execution_count": null,
      "outputs": [
        {
          "output_type": "stream",
          "name": "stdout",
          "text": [
            "CNN_MNIST_GAP(\n",
            "  (conv1): Conv2d(1, 8, kernel_size=(3, 3), stride=(1, 1), padding=(1, 1))\n",
            "  (pooling1): MaxPool2d(kernel_size=2, stride=2, padding=0, dilation=1, ceil_mode=False)\n",
            "  (conv2): Conv2d(8, 16, kernel_size=(3, 3), stride=(1, 1), padding=(1, 1))\n",
            "  (gap): AdaptiveAvgPool2d(output_size=(1, 1))\n",
            "  (fc): Linear(in_features=16, out_features=10, bias=True)\n",
            ")\n"
          ]
        }
      ]
    },
    {
      "cell_type": "code",
      "source": [
        "num_epochs = 20\n",
        "learning_rate = 0.001\n",
        "optimizer = optim.Adam(model_gap.parameters(), lr = learning_rate)\n",
        "loss_fn = nn.CrossEntropyLoss()\n",
        "\n",
        "train_loss_list = []\n",
        "for epoch in range(num_epochs):\n",
        "  print(f\"Epoch {epoch+1}/{num_epochs}:\", end = \" \")\n",
        "  train_loss = 0\n",
        "\n",
        "  for data in trainset_loader:\n",
        "    X, y = data\n",
        "    model_gap.zero_grad()\n",
        "    X = X.cuda()\n",
        "    y = y.cuda()\n",
        "\n",
        "    output = model_gap(X)\n",
        "    loss = loss_fn(output, y)\n",
        "\n",
        "    loss.backward()\n",
        "    optimizer.step()\n",
        "    train_loss += loss.item()\n",
        "\n",
        "  train_loss_list.append(train_loss/ len(trainset_loader))\n",
        "  print(f\"Training loss = {train_loss_list[-1]}\")\n",
        "\n",
        "plt.plot(range(1, num_epochs+1), train_loss_list)\n",
        "plt.xlabel(\"Number of epochs\")\n",
        "plt.ylabel(\"Training loss\")"
      ],
      "metadata": {
        "colab": {
          "base_uri": "https://localhost:8080/",
          "height": 698
        },
        "id": "pq7wHmVMn7ny",
        "outputId": "863fe59e-0d9e-4a4d-ce50-34b97409dcf3"
      },
      "execution_count": null,
      "outputs": [
        {
          "output_type": "stream",
          "name": "stdout",
          "text": [
            "Epoch 1/20: "
          ]
        },
        {
          "output_type": "stream",
          "name": "stderr",
          "text": [
            "<ipython-input-25-8f4b91fb9113>:22: UserWarning: Implicit dimension choice for softmax has been deprecated. Change the call to include dim=X as an argument.\n",
            "  return nn.functional.softmax(self.fc(x))\n"
          ]
        },
        {
          "output_type": "stream",
          "name": "stdout",
          "text": [
            "Training loss = 2.2074482344361\n",
            "Epoch 2/20: Training loss = 2.186337621481434\n",
            "Epoch 3/20: Training loss = 2.1799255454464\n",
            "Epoch 4/20: Training loss = 2.1758656593273953\n",
            "Epoch 5/20: Training loss = 2.17201969211798\n",
            "Epoch 6/20: Training loss = 2.16821829088207\n",
            "Epoch 7/20: Training loss = 2.163266332418934\n",
            "Epoch 8/20: Training loss = 2.1589762340984873\n",
            "Epoch 9/20: Training loss = 2.1540072472619096\n",
            "Epoch 10/20: Training loss = 2.1487680610054847\n",
            "Epoch 11/20: Training loss = 2.1448513404138563\n",
            "Epoch 12/20: Training loss = 2.14067893292604\n",
            "Epoch 13/20: Training loss = 2.137447511717709\n",
            "Epoch 14/20: Training loss = 2.1342999299706173\n",
            "Epoch 15/20: Training loss = 2.1309044457701987\n",
            "Epoch 16/20: Training loss = 2.1279387631650164\n",
            "Epoch 17/20: Training loss = 2.1247292546066903\n",
            "Epoch 18/20: Training loss = 2.1204333661207513\n",
            "Epoch 19/20: Training loss = 2.11625123532342\n",
            "Epoch 20/20: Training loss = 2.1119252257763956\n"
          ]
        },
        {
          "output_type": "execute_result",
          "data": {
            "text/plain": [
              "Text(0, 0.5, 'Training loss')"
            ]
          },
          "metadata": {},
          "execution_count": 40
        },
        {
          "output_type": "display_data",
          "data": {
            "text/plain": [
              "<Figure size 432x288 with 1 Axes>"
            ],
            "image/png": "[encoded data removed]"
          },
          "metadata": {
            "needs_background": "light"
          }
        }
      ]
    },
    {
      "cell_type": "code",
      "source": [
        "test_acc=0\n",
        "model_gap.eval()\n",
        "  \n",
        "with torch.no_grad():\n",
        "  test_acc= 0\n",
        "  #Iterating over the training dataset in batches\n",
        "  for i, (images, labels) in enumerate(testset_loader):\n",
        "      \n",
        "      images = images.cuda()\n",
        "      y_true = labels.cuda()\n",
        "      # y_true = labels\n",
        "\n",
        "      #Calculating outputs for the batch being iterated\n",
        "      outputs = model_gap(images)\n",
        "        \n",
        "      #Calculated prediction labels from models\n",
        "      _, y_pred = torch.max(outputs.data, 1)\n",
        "        \n",
        "      #Comparing predicted and true labels\n",
        "      test_acc += (y_pred == y_true).sum().item()\n",
        "      \n",
        "  print(f\"Test set accuracy = {100 * test_acc / len(test)} %\")"
      ],
      "metadata": {
        "colab": {
          "base_uri": "https://localhost:8080/"
        },
        "id": "fbiiaRy5oQxx",
        "outputId": "317d0e3e-d772-4b72-8949-58fafa722d7e"
      },
      "execution_count": null,
      "outputs": [
        {
          "output_type": "stream",
          "name": "stderr",
          "text": [
            "<ipython-input-25-8f4b91fb9113>:22: UserWarning: Implicit dimension choice for softmax has been deprecated. Change the call to include dim=X as an argument.\n",
            "  return nn.functional.softmax(self.fc(x))\n"
          ]
        },
        {
          "output_type": "stream",
          "name": "stdout",
          "text": [
            "Test set accuracy = 20.17 %\n"
          ]
        }
      ]
    },
    {
      "cell_type": "code",
      "source": [
        "img = images_cams_try[4].cuda()\n",
        "# img = images_cams_try[6]\n",
        "print(\"Image shape:\", img.shape)\n",
        "\n",
        "model_gap.eval()\n",
        "with torch.no_grad():\n",
        "  features = model_gap.conv2(model_gap.pooling1(model_gap.conv1(img)))\n",
        "  print(\"Features shape:\",features.shape)\n",
        "  gap_output = model_gap.gap(features)\n",
        "  print(\"GAP outputs:\",gap_output.T)\n",
        "\n",
        "  fc_output = nn.functional.softmax(model_gap.fc(gap_output.view(-1,16)))\n",
        "  print(\"Fc output:\", fc_output)\n",
        "  _, pred = torch.max(fc_output, 1)\n",
        "  print(\"predicted : \", testset_loader.dataset.classes[pred])\n",
        "\n",
        "\n",
        "  weights = model_gap.fc.weight.detach()\n",
        "  # weights = list(model_gap.fc.weight.detach())\n",
        "  print(\"weights shape:\",weights.shape)\n",
        "\n",
        "  num_classes = weights.size(0)\n",
        "  num_am = weights.size(1)\n",
        "  print(\"Number of classes:\", num_classes, \", Number of activation maps:\",num_am)\n",
        "\n",
        "  # reshape to be able to performe the dot product:\n",
        "  features_reshaped = features.reshape((num_am, 14*14))\n",
        "  print(\"Features shape after reshape:\", features_reshaped.shape)\n",
        "  \n",
        "  cam = np.dot(weights.cpu(),features_reshaped.cpu())\n",
        "  print(\"cam shape:\", cam.shape)\n",
        "  # reshape it back to images(matrices) instead of an array\n",
        "  cam_reshaped = cam.reshape(-1, 14,14)\n",
        "  # cam_reshaped = np.max(cam_reshaped, axis=0)\n",
        "  print(\"cam_reshaped shape:\", cam_reshaped.shape)\n",
        "\n",
        "  # normalize\n",
        "  cam_norm = cam_reshaped / np.linalg.norm(cam_reshaped)\n",
        "  # cam_norm = cam_norm[0]\n",
        "  # upsample it:\n",
        "  # cam_upsample = cv2.resize(cam_norm,(28,28))\n",
        "  cam_upsample = []\n",
        "  for cam_n in cam_norm:\n",
        "    cam_upsample.append(cv2.resize(cam_n, (28,28)))\n",
        "  cam_upsample = np.array(cam_upsample)\n",
        "  print(\"cam upsampled shape:\", cam_upsample.shape)\n",
        "\n",
        "  heatmap = cv2.applyColorMap(np.uint8(255*cam_upsample[0]), cv2.COLORMAP_JET)\n",
        "\n",
        "  plt.imshow(np.transpose(torchvision.utils.make_grid(\n",
        "          img.cpu(), normalize=True, padding=1, nrow=5\n",
        "      ).numpy(), (1,2,0)))\n",
        "  plt.imshow(heatmap, alpha=0.5)\n"
      ],
      "metadata": {
        "colab": {
          "base_uri": "https://localhost:8080/",
          "height": 543
        },
        "id": "7iI9ycpjpuCA",
        "outputId": "b8dceeb8-1420-4314-b17d-d0aaac809b8d"
      },
      "execution_count": null,
      "outputs": [
        {
          "output_type": "stream",
          "name": "stdout",
          "text": [
            "Image shape: torch.Size([1, 28, 28])\n",
            "Features shape: torch.Size([16, 14, 14])\n",
            "GAP outputs: tensor([[[ -2.1400,  16.8374,  -7.7771,  13.1689,   8.7161, -12.3936,  13.5746,\n",
            "           12.1584,  10.3472,   0.0296,  14.0972,  11.8386, -11.5006,  -9.4690,\n",
            "           18.4883,  27.9145]]], device='cuda:0')\n",
            "Fc output: tensor([[3.0137e-26, 0.0000e+00, 2.2668e-33, 3.2961e-20, 0.0000e+00, 8.4611e-25,\n",
            "         1.2001e-31, 2.1160e-43, 1.0000e+00, 1.3347e-19]], device='cuda:0')\n",
            "predicted :  8 - eight\n",
            "weights shape: torch.Size([10, 16])\n",
            "Number of classes: 10 , Number of activation maps: 16\n",
            "Features shape after reshape: torch.Size([16, 196])\n",
            "cam shape: (10, 196)\n",
            "cam_reshaped shape: (10, 14, 14)\n",
            "cam upsampled shape: (10, 28, 28)\n"
          ]
        },
        {
          "output_type": "stream",
          "name": "stderr",
          "text": [
            "<ipython-input-37-1f4681ab82f2>:12: UserWarning: Implicit dimension choice for softmax has been deprecated. Change the call to include dim=X as an argument.\n",
            "  fc_output = nn.functional.softmax(model_gap.fc(gap_output.view(-1,16)))\n"
          ]
        },
        {
          "output_type": "display_data",
          "data": {
            "text/plain": [
              "<Figure size 432x288 with 1 Axes>"
            ],
            "image/png": "[encoded data removed]"
          },
          "metadata": {
            "needs_background": "light"
          }
        }
      ]
    },
    {
      "cell_type": "code",
      "source": [],
      "metadata": {
        "id": "gxRMgWuoqGBd"
      },
      "execution_count": null,
      "outputs": []
    }
  ]
}